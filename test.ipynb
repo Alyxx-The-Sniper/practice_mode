{
 "cells": [
  {
   "cell_type": "markdown",
   "id": "38a9fb8f",
   "metadata": {},
   "source": [
    "# LLM"
   ]
  },
  {
   "cell_type": "markdown",
   "id": "0635afd0",
   "metadata": {},
   "source": [
    "### Openai"
   ]
  },
  {
   "cell_type": "code",
   "execution_count": 38,
   "id": "9c3f02cc",
   "metadata": {},
   "outputs": [
    {
     "data": {
      "text/plain": [
       "ChatOpenAI(client=<openai.resources.chat.completions.completions.Completions object at 0x0000022808585A00>, async_client=<openai.resources.chat.completions.completions.AsyncCompletions object at 0x00000228085853A0>, root_client=<openai.OpenAI object at 0x00000228085859A0>, root_async_client=<openai.AsyncOpenAI object at 0x0000022808585FD0>, temperature=0.7, model_kwargs={}, openai_api_key=SecretStr('**********'))"
      ]
     },
     "execution_count": 38,
     "metadata": {},
     "output_type": "execute_result"
    }
   ],
   "source": [
    "import os\n",
    "from langchain_openai import ChatOpenAI\n",
    "from dotenv import load_dotenv\n",
    "load_dotenv()\n",
    "\n",
    "OPENAI_API_KEY = os.getenv('OPENAI_API_KEY')\n",
    "\n",
    "llm_openai = ChatOpenAI(\n",
    "                api_key=OPENAI_API_KEY, \n",
    "                model='gpt-3.5-turbo', \n",
    "                temperature=0.7)\n",
    "llm_openai"
   ]
  },
  {
   "cell_type": "code",
   "execution_count": 39,
   "id": "66b99c4b",
   "metadata": {},
   "outputs": [
    {
     "data": {
      "text/plain": [
       "AIMessage(content='The capital of Japan is Tokyo.', additional_kwargs={'refusal': None}, response_metadata={'token_usage': {'completion_tokens': 7, 'prompt_tokens': 14, 'total_tokens': 21, 'completion_tokens_details': {'accepted_prediction_tokens': 0, 'audio_tokens': 0, 'reasoning_tokens': 0, 'rejected_prediction_tokens': 0}, 'prompt_tokens_details': {'audio_tokens': 0, 'cached_tokens': 0}}, 'model_name': 'gpt-3.5-turbo-0125', 'system_fingerprint': None, 'id': 'chatcmpl-Bvb9LNR9j3b0Q8VS6estGbqo6Tde8', 'service_tier': 'default', 'finish_reason': 'stop', 'logprobs': None}, id='run--6000e375-264d-44db-9075-89b381275205-0', usage_metadata={'input_tokens': 14, 'output_tokens': 7, 'total_tokens': 21, 'input_token_details': {'audio': 0, 'cache_read': 0}, 'output_token_details': {'audio': 0, 'reasoning': 0}})"
      ]
     },
     "execution_count": 39,
     "metadata": {},
     "output_type": "execute_result"
    }
   ],
   "source": [
    "# verify\n",
    "llm_openai.invoke('what is the capital of Japan?')"
   ]
  },
  {
   "cell_type": "code",
   "execution_count": 40,
   "metadata": {},
   "outputs": [
    {
     "data": {
      "text/plain": [
       "\"When a cat hisses, it is a sign of fear, stress, or aggression. Cats hiss as a warning signal to communicate that they are feeling threatened or uncomfortable. It is their way of telling you or another animal to back off and give them space.\\n\\nHissing is often accompanied by other body language cues such as flattened ears, dilated pupils, raised fur, and a crouched or tense body posture. It is essential to respect a hissing cat's boundaries and avoid further provoking them.\\n\\nIf your cat is hissing frequently or in response to certain triggers, it is crucial to assess the situation and try to identify the cause of their distress. If the hissing behavior persists and you are concerned about your cat's well-being, it is recommended to consult with a veterinarian or a professional animal behaviorist for further guidance.\""
      ]
     },
     "execution_count": 40,
     "metadata": {},
     "output_type": "execute_result"
    }
   ],
   "source": [
    "# verify\n",
    "from langchain_core.messages import HumanMessage, SystemMessage\n",
    "\n",
    "sample_messages = [\n",
    "    SystemMessage(content=\"You are a pet veterinarian.\"),\n",
    "    HumanMessage(content=\"Explain cat hissing sound\")\n",
    "]\n",
    "sample_answer = llm_openai.invoke(sample_messages)\n",
    "sample_answer.content"
   ]
  },
  {
   "cell_type": "markdown",
   "id": "f74c404e",
   "metadata": {},
   "source": [
    "### Deepinfra gemma"
   ]
  },
  {
   "cell_type": "code",
   "execution_count": 57,
   "id": "ea4f4bc1",
   "metadata": {},
   "outputs": [
    {
     "data": {
      "text/plain": [
       "ChatDeepInfra(model_name='google/gemma-3-4b-it', deepinfra_api_token='Aqaz1fN9vn5oWeqdAp6BZg04vTf2Iv8V', temperature=0.7, model_kwargs={}, max_tokens=512)"
      ]
     },
     "execution_count": 57,
     "metadata": {},
     "output_type": "execute_result"
    }
   ],
   "source": [
    "from langchain_community.chat_models import ChatDeepInfra\n",
    "\n",
    "llm_deepinfra = ChatDeepInfra(\n",
    "                    model=\"google/gemma-3-4b-it\",\n",
    "                    temperature=0.7,\n",
    "                    max_tokens=512,\n",
    "                )\n",
    "llm_deepinfra"
   ]
  },
  {
   "cell_type": "code",
   "execution_count": 42,
   "id": "4e932112",
   "metadata": {},
   "outputs": [
    {
     "data": {
      "text/plain": [
       "'The capital of Japan is **Tokyo**. \\n\\nIt’s a massive, vibrant city and the center of Japanese government, culture, and economy. 😊'"
      ]
     },
     "execution_count": 42,
     "metadata": {},
     "output_type": "execute_result"
    }
   ],
   "source": [
    "# Verify\n",
    "sample_answer = llm_deepinfra.invoke(\"what is the capital of Japan?\")\n",
    "sample_answer.content"
   ]
  },
  {
   "cell_type": "code",
   "execution_count": 82,
   "id": "62f21557",
   "metadata": {},
   "outputs": [
    {
     "data": {
      "text/plain": [
       "'Ah, a classic question! The capital of Japan is **Tokyo** (officially Tokyo-to). \\n\\nIt’s a truly fascinating city – a massive blend of ancient tradition and cutting-edge modernity. \\n\\nWould you like to know anything more about Tokyo, like:\\n\\n*   Its history?\\n*   Popular attractions (like the Shibuya crossing or the Imperial Palace)?\\n*   What it’s like to experience it?'"
      ]
     },
     "execution_count": 82,
     "metadata": {},
     "output_type": "execute_result"
    }
   ],
   "source": [
    "# Verify 2\n",
    "sample_messages = [\n",
    "    SystemMessage(content=\"You are a travel expert.\"),\n",
    "    HumanMessage(content=\"what is the capital of Japan?\")\n",
    "]\n",
    "sample_answer = llm_deepinfra.invoke(sample_messages)\n",
    "sample_answer.content"
   ]
  },
  {
   "cell_type": "markdown",
   "id": "5b0b5541",
   "metadata": {},
   "source": [
    "# Graph Builder"
   ]
  },
  {
   "cell_type": "code",
   "execution_count": null,
   "id": "4ff39045",
   "metadata": {},
   "outputs": [],
   "source": [
    "from typing import Annotated\n",
    "from typing_extensions import TypedDict\n",
    "from langgraph.graph import StateGraph, START, END\n",
    "from langgraph.graph.message import add_messages"
   ]
  },
  {
   "cell_type": "code",
   "execution_count": null,
   "id": "3f8d320f",
   "metadata": {},
   "outputs": [],
   "source": [
    "class State(TypedDict): #inherit Typedict \n",
    "   # `add_messages` is a reducer: it appends new messages to the existing list\n",
    "    messages: Annotated[list, add_messages] \n",
    "\n",
    "# example:\n",
    "# {\n",
    "#     \"messages\": [\n",
    "#         {\"role\": \"user\",    \"content\": \"hi\"},\n",
    "#         {\"role\": \"assistant\", \"content\": \"Hello!\"},\n",
    "#         ...\n",
    "#     ]\n",
    "# }"
   ]
  },
  {
   "cell_type": "code",
   "execution_count": null,
   "id": "f51a5430",
   "metadata": {},
   "outputs": [],
   "source": [
    "# chatbot node\n",
    "def chatbot(state: State) -> State: \n",
    "    reply = llm_deepinfra.invoke(state[\"messages\"])\n",
    "    return {\"messages\": reply}         "
   ]
  },
  {
   "cell_type": "code",
   "execution_count": 90,
   "id": "0b8b0f23",
   "metadata": {},
   "outputs": [],
   "source": [
    "graph_builder = StateGraph(State)\n",
    "\n",
    "# node\n",
    "graph_builder.add_node('llm_chatbot',chatbot)\n",
    "# add start edge\n",
    "graph_builder.add_edge(START, 'llm_chatbot')\n",
    "# add end edge\n",
    "graph_builder.add_edge('llm_chatbot', END)\n",
    "\n",
    "\n",
    "# compile the graph\n",
    "graph = graph_builder.compile()"
   ]
  },
  {
   "cell_type": "code",
   "execution_count": 97,
   "id": "d5edb764",
   "metadata": {},
   "outputs": [
    {
     "data": {
      "image/png": "[encoded data removed]",
      "text/plain": [
       "<IPython.core.display.Image object>"
      ]
     },
     "metadata": {},
     "output_type": "display_data"
    }
   ],
   "source": [
    "# Visualize\n",
    "from IPython.display import Image, display\n",
    "display(Image(graph.get_graph().draw_mermaid_png()))"
   ]
  },
  {
   "cell_type": "code",
   "execution_count": 92,
   "id": "68ea709f",
   "metadata": {},
   "outputs": [
    {
     "data": {
      "text/plain": [
       "{'messages': [HumanMessage(content='hi', additional_kwargs={}, response_metadata={}, id='9778770f-fea4-4948-b3c6-8b28ddc905be'),\n",
       "  AIMessage(content=\"Hi there! How's your day going so far? 😊 \\n\\nIs there anything you'd like to chat about, or were you just saying hello?\", additional_kwargs={}, response_metadata={'token_usage': {'prompt_tokens': 10, 'total_tokens': 44, 'completion_tokens': 34, 'estimated_cost': 1.5599999999999999e-06}, 'model': 'google/gemma-3-4b-it', 'finish_reason': 'stop'}, id='run--1783a3c9-6752-4298-a781-e562ec395765-0')]}"
      ]
     },
     "execution_count": 92,
     "metadata": {},
     "output_type": "execute_result"
    }
   ],
   "source": [
    "response = graph.invoke({\"messages\": 'hi'})\n",
    "response"
   ]
  },
  {
   "cell_type": "code",
   "execution_count": 104,
   "id": "6118c6ee",
   "metadata": {},
   "outputs": [
    {
     "data": {
      "text/plain": [
       "'As an AI, I don’t actually *know* your name! You haven’t told me. 😊 \\n\\nYou can tell me if you’d like – I’m happy to remember it!'"
      ]
     },
     "execution_count": 104,
     "metadata": {},
     "output_type": "execute_result"
    }
   ],
   "source": [
    "# response['messages']\n",
    "response['messages'][-1].content"
   ]
  },
  {
   "cell_type": "code",
   "execution_count": null,
   "id": "914c06f1",
   "metadata": {},
   "outputs": [],
   "source": []
  },
  {
   "cell_type": "code",
   "execution_count": null,
   "id": "f5a7b275",
   "metadata": {},
   "outputs": [],
   "source": []
  },
  {
   "cell_type": "code",
   "execution_count": null,
   "id": "572d4533",
   "metadata": {},
   "outputs": [],
   "source": []
  },
  {
   "cell_type": "code",
   "execution_count": null,
   "id": "4473ab8f",
   "metadata": {},
   "outputs": [],
   "source": []
  },
  {
   "cell_type": "code",
   "execution_count": null,
   "id": "08aacbe6",
   "metadata": {},
   "outputs": [],
   "source": []
  },
  {
   "cell_type": "code",
   "execution_count": null,
   "id": "0bc7ae00",
   "metadata": {},
   "outputs": [],
   "source": []
  }
 ],
 "metadata": {
  "kernelspec": {
   "display_name": "practice-mode",
   "language": "python",
   "name": "python3"
  },
  "language_info": {
   "codemirror_mode": {
    "name": "ipython",
    "version": 3
   },
   "file_extension": ".py",
   "mimetype": "text/x-python",
   "name": "python",
   "nbconvert_exporter": "python",
   "pygments_lexer": "ipython3",
   "version": "3.9.13"
  }
 },
 "nbformat": 4,
 "nbformat_minor": 5
}
