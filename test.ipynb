{
 "cells": [
  {
   "cell_type": "markdown",
   "id": "38a9fb8f",
   "metadata": {},
   "source": [
    "# LLM"
   ]
  },
  {
   "cell_type": "markdown",
   "id": "0635afd0",
   "metadata": {},
   "source": [
    "### Openai"
   ]
  },
  {
   "cell_type": "code",
   "execution_count": 100,
   "id": "9c3f02cc",
   "metadata": {},
   "outputs": [
    {
     "data": {
      "text/plain": [
       "ChatOpenAI(client=<openai.resources.chat.completions.completions.Completions object at 0x000002F254061070>, async_client=<openai.resources.chat.completions.completions.AsyncCompletions object at 0x000002F257290D30>, root_client=<openai.OpenAI object at 0x000002F25731FEE0>, root_async_client=<openai.AsyncOpenAI object at 0x000002F25763E040>, temperature=0.7, model_kwargs={}, openai_api_key=SecretStr('**********'))"
      ]
     },
     "execution_count": 100,
     "metadata": {},
     "output_type": "execute_result"
    }
   ],
   "source": [
    "import os\n",
    "from langchain_openai import ChatOpenAI\n",
    "from dotenv import load_dotenv\n",
    "load_dotenv()\n",
    "\n",
    "OPENAI_API_KEY = os.getenv('OPENAI_API_KEY')\n",
    "\n",
    "llm_openai = ChatOpenAI(\n",
    "                api_key=OPENAI_API_KEY, \n",
    "                model='gpt-3.5-turbo', \n",
    "                temperature=0.7)\n",
    "llm_openai"
   ]
  },
  {
   "cell_type": "code",
   "execution_count": 16,
   "id": "66b99c4b",
   "metadata": {},
   "outputs": [
    {
     "data": {
      "text/plain": [
       "AIMessage(content='The capital of Japan is Tokyo.', additional_kwargs={'refusal': None}, response_metadata={'token_usage': {'completion_tokens': 7, 'prompt_tokens': 14, 'total_tokens': 21, 'completion_tokens_details': {'accepted_prediction_tokens': 0, 'audio_tokens': 0, 'reasoning_tokens': 0, 'rejected_prediction_tokens': 0}, 'prompt_tokens_details': {'audio_tokens': 0, 'cached_tokens': 0}}, 'model_name': 'gpt-3.5-turbo-0125', 'system_fingerprint': None, 'id': 'chatcmpl-BvdqlmSvnf4Ttj0uWYkGovDFwiss3', 'service_tier': 'default', 'finish_reason': 'stop', 'logprobs': None}, id='run--1ce95d4f-b4a2-441e-8cec-7df42c63c22a-0', usage_metadata={'input_tokens': 14, 'output_tokens': 7, 'total_tokens': 21, 'input_token_details': {'audio': 0, 'cache_read': 0}, 'output_token_details': {'audio': 0, 'reasoning': 0}})"
      ]
     },
     "execution_count": 16,
     "metadata": {},
     "output_type": "execute_result"
    }
   ],
   "source": [
    "# verify\n",
    "llm_openai.invoke('what is the capital of Japan?')"
   ]
  },
  {
   "cell_type": "code",
   "execution_count": 17,
   "metadata": {},
   "outputs": [
    {
     "data": {
      "text/plain": [
       "\"When a cat hisses, it is a warning sign that they are feeling threatened, scared, or agitated. The hissing sound is a way for them to communicate that they are feeling uncomfortable and that they may be ready to defend themselves if necessary. Cats may hiss when they encounter unfamiliar animals, people, or situations that make them feel uneasy.\\n\\nIt's important to pay attention to your cat's body language when they are hissing, as it can give you clues about what is causing their distress. For example, if their ears are flattened back, their fur is standing on end, or they are crouched low to the ground, they are likely feeling very frightened or defensive.\\n\\nIf your cat is hissing, it is best to give them space and allow them to calm down on their own. Avoid approaching them or trying to comfort them until they have had a chance to relax. If the hissing continues or if your cat's behavior changes significantly, it may be a good idea to consult with a veterinarian to rule out any underlying health issues or behavioral problems.\""
      ]
     },
     "execution_count": 17,
     "metadata": {},
     "output_type": "execute_result"
    }
   ],
   "source": [
    "# verify\n",
    "from langchain_core.messages import HumanMessage, SystemMessage\n",
    "\n",
    "sample_messages = [\n",
    "    SystemMessage(content=\"You are a pet veterinarian.\"),\n",
    "    HumanMessage(content=\"Explain cat hissing sound\")\n",
    "]\n",
    "sample_answer = llm_openai.invoke(sample_messages)\n",
    "sample_answer.content"
   ]
  },
  {
   "cell_type": "markdown",
   "id": "f74c404e",
   "metadata": {},
   "source": [
    "### Deepinfra gemma"
   ]
  },
  {
   "cell_type": "code",
   "execution_count": 90,
   "id": "ea4f4bc1",
   "metadata": {},
   "outputs": [
    {
     "data": {
      "text/plain": [
       "ChatDeepInfra(model_name='google/gemma-3-4b-it', deepinfra_api_token='Aqaz1fN9vn5oWeqdAp6BZg04vTf2Iv8V', temperature=0.7, model_kwargs={}, max_tokens=512)"
      ]
     },
     "execution_count": 90,
     "metadata": {},
     "output_type": "execute_result"
    }
   ],
   "source": [
    "from langchain_community.chat_models import ChatDeepInfra\n",
    "\n",
    "llm_deepinfra = ChatDeepInfra(\n",
    "                    model=\"google/gemma-3-4b-it\",\n",
    "                    temperature=0.7,\n",
    "                    max_tokens=512,\n",
    "                )\n",
    "llm_deepinfra"
   ]
  },
  {
   "cell_type": "code",
   "execution_count": 42,
   "id": "4e932112",
   "metadata": {},
   "outputs": [
    {
     "data": {
      "text/plain": [
       "'The capital of Japan is **Tokyo**. \\n\\nIt’s a massive, vibrant city and the center of Japanese government, culture, and economy. 😊'"
      ]
     },
     "execution_count": 42,
     "metadata": {},
     "output_type": "execute_result"
    }
   ],
   "source": [
    "# Verify\n",
    "sample_answer = llm_deepinfra.invoke(\"what is the capital of Japan?\")\n",
    "sample_answer.content"
   ]
  },
  {
   "cell_type": "code",
   "execution_count": 82,
   "id": "62f21557",
   "metadata": {},
   "outputs": [
    {
     "data": {
      "text/plain": [
       "'Ah, a classic question! The capital of Japan is **Tokyo** (officially Tokyo-to). \\n\\nIt’s a truly fascinating city – a massive blend of ancient tradition and cutting-edge modernity. \\n\\nWould you like to know anything more about Tokyo, like:\\n\\n*   Its history?\\n*   Popular attractions (like the Shibuya crossing or the Imperial Palace)?\\n*   What it’s like to experience it?'"
      ]
     },
     "execution_count": 82,
     "metadata": {},
     "output_type": "execute_result"
    }
   ],
   "source": [
    "# Verify 2\n",
    "sample_messages = [\n",
    "    SystemMessage(content=\"You are a travel expert.\"),\n",
    "    HumanMessage(content=\"what is the capital of Japan?\")\n",
    "]\n",
    "sample_answer = llm_deepinfra.invoke(sample_messages)\n",
    "sample_answer.content"
   ]
  },
  {
   "cell_type": "markdown",
   "id": "5b0b5541",
   "metadata": {},
   "source": [
    "# Graph Builder"
   ]
  },
  {
   "cell_type": "code",
   "execution_count": 6,
   "id": "4ff39045",
   "metadata": {},
   "outputs": [],
   "source": [
    "from typing import Annotated\n",
    "from typing_extensions import TypedDict\n",
    "from langgraph.graph import StateGraph, START, END\n",
    "from langgraph.graph.message import add_messages"
   ]
  },
  {
   "cell_type": "code",
   "execution_count": 8,
   "id": "3f8d320f",
   "metadata": {},
   "outputs": [],
   "source": [
    "class State(TypedDict): #inherit Typedict \n",
    "   # `add_messages` is a reducer: it appends new messages to the existing list\n",
    "    messages: Annotated[list, add_messages] \n",
    "\n",
    "# example:\n",
    "# {\n",
    "#     \"messages\": [\n",
    "#         {\"role\": \"user\",    \"content\": \"hi\"},\n",
    "#         {\"role\": \"assistant\", \"content\": \"Hello!\"},\n",
    "#         ...\n",
    "#     ]\n",
    "# }"
   ]
  },
  {
   "cell_type": "code",
   "execution_count": 9,
   "id": "f51a5430",
   "metadata": {},
   "outputs": [],
   "source": [
    "# chatbot node\n",
    "def chatbot(state: State) -> State: \n",
    "    reply = llm_deepinfra.invoke(state[\"messages\"])\n",
    "    return {\"messages\": reply}         "
   ]
  },
  {
   "cell_type": "code",
   "execution_count": 10,
   "id": "0b8b0f23",
   "metadata": {},
   "outputs": [],
   "source": [
    "graph_builder = StateGraph(State)\n",
    "\n",
    "# node\n",
    "graph_builder.add_node('llm_chatbot',chatbot)\n",
    "# add start edge\n",
    "graph_builder.add_edge(START, 'llm_chatbot')\n",
    "# add end edge\n",
    "graph_builder.add_edge('llm_chatbot', END)\n",
    "\n",
    "\n",
    "# compile the graph\n",
    "graph = graph_builder.compile()"
   ]
  },
  {
   "cell_type": "code",
   "execution_count": 11,
   "id": "d5edb764",
   "metadata": {},
   "outputs": [
    {
     "data": {
      "image/png": "[encoded data removed]",
      "text/plain": [
       "<IPython.core.display.Image object>"
      ]
     },
     "metadata": {},
     "output_type": "display_data"
    }
   ],
   "source": [
    "# Visualize\n",
    "from IPython.display import Image, display\n",
    "display(Image(graph.get_graph().draw_mermaid_png()))"
   ]
  },
  {
   "cell_type": "code",
   "execution_count": 12,
   "id": "68ea709f",
   "metadata": {},
   "outputs": [
    {
     "data": {
      "text/plain": [
       "{'messages': [HumanMessage(content='hi', additional_kwargs={}, response_metadata={}, id='4311bd24-31d2-44ce-a143-6070ac5032f4'),\n",
       "  AIMessage(content='Hi there! How’s your day going so far? Is there anything you’d like to chat about, or were you just saying hello? 😊', additional_kwargs={}, response_metadata={'token_usage': {'prompt_tokens': 10, 'total_tokens': 42, 'completion_tokens': 32, 'estimated_cost': 1.48e-06}, 'model': 'google/gemma-3-4b-it', 'finish_reason': 'stop'}, id='run--bf072d33-2c6c-4916-b6b7-14e6582a2ca5-0')]}"
      ]
     },
     "execution_count": 12,
     "metadata": {},
     "output_type": "execute_result"
    }
   ],
   "source": [
    "response = graph.invoke({\"messages\": 'hi'})\n",
    "response"
   ]
  },
  {
   "cell_type": "code",
   "execution_count": 13,
   "id": "6118c6ee",
   "metadata": {},
   "outputs": [
    {
     "data": {
      "text/plain": [
       "'Hi there! How’s your day going so far? Is there anything you’d like to chat about, or were you just saying hello? 😊'"
      ]
     },
     "execution_count": 13,
     "metadata": {},
     "output_type": "execute_result"
    }
   ],
   "source": [
    "# response['messages']\n",
    "response['messages'][-1].content"
   ]
  },
  {
   "cell_type": "markdown",
   "id": "d7ead567",
   "metadata": {},
   "source": [
    "# Tools\n",
    "Do not rely on a prompt instruction alone.\n",
    "Register a real search tool and let the LLM invoke it via function-calling; that is the robust, production-ready way to give any LLM live web access today "
   ]
  },
  {
   "cell_type": "code",
   "execution_count": null,
   "id": "914c06f1",
   "metadata": {},
   "outputs": [],
   "source": [
    "from langchain_tavily import TavilySearch\n",
    "\n",
    "TAVILY_API_KEY=os.getenv('TAVILY_API_KEY')"
   ]
  },
  {
   "cell_type": "code",
   "execution_count": 138,
   "id": "39316079",
   "metadata": {},
   "outputs": [],
   "source": [
    "# Websearch tool\n",
    "tool_websearch=TavilySearch(max_results=2)"
   ]
  },
  {
   "cell_type": "code",
   "execution_count": 136,
   "id": "08aacbe6",
   "metadata": {},
   "outputs": [
    {
     "data": {
      "text/plain": [
       "1.2"
      ]
     },
     "execution_count": 136,
     "metadata": {},
     "output_type": "execute_result"
    }
   ],
   "source": [
    "# Custom tool\n",
    "def Room_AC_Horsepower_Computation(length:int,\n",
    "                                   width:int) -> float:\n",
    "    '''Compute the required AC horsepower for a room.\n",
    "\n",
    "    Multiply length × width to get square metres, then divide by 9\n",
    "    to estimate horsepower (1 HP ≈ 10 m²).\n",
    "\n",
    "    Args:\n",
    "        length (int): Room length in metres.\n",
    "        width (int): Room width in metres.\n",
    "\n",
    "    Returns:\n",
    "        float: Recommended horsepower (HP).\n",
    "    '''\n",
    "\n",
    "    sqm = length * width\n",
    "    hp = sqm/10\n",
    "    return hp\n",
    "\n",
    "# test\n",
    "Room_AC_Horsepower_Computation(3, 4)"
   ]
  },
  {
   "cell_type": "code",
   "execution_count": 139,
   "id": "0bc7ae00",
   "metadata": {},
   "outputs": [],
   "source": [
    "tools = [tool_websearch, Room_AC_Horsepower_Computation]\n",
    "\n",
    "# Bind the tools to llm\n",
    "# llm_deepinfra_tools = llm_deepinfra.bind_tools(tools)\n",
    "llm_openai_tools = llm_openai.bind_tools(tools)\n",
    "\n"
   ]
  },
  {
   "cell_type": "code",
   "execution_count": 102,
   "id": "00e99037",
   "metadata": {},
   "outputs": [],
   "source": [
    "from langgraph.graph import StateGraph, START, END\n",
    "from langgraph.prebuilt import ToolNode\n",
    "from langgraph.prebuilt import tools_condition\n",
    "\n",
    "class State(TypedDict): \n",
    "    messages: Annotated[list, add_messages]\n",
    "    \n",
    "# Node difinition\n",
    "def chatbot_with_tools(state: State) -> State: \n",
    "            # reply = llm_deepinfra_tools.invoke(state[\"messages\"])\n",
    "            reply = llm_openai_tools.invoke(state[\"messages\"])\n",
    "            return {\"messages\": reply}   "
   ]
  },
  {
   "cell_type": "code",
   "execution_count": 104,
   "id": "7325d7b4",
   "metadata": {},
   "outputs": [],
   "source": [
    "builder = StateGraph(State)\n",
    "\n",
    "builder.add_node('chatbot_with_tools', chatbot_with_tools)\n",
    "builder.add_node('tools', ToolNode(tools))\n",
    "\n",
    "builder.add_edge(START, 'chatbot_with_tools')\n",
    "\n",
    "builder.add_conditional_edges('chatbot_with_tools', tools_condition)\n",
    "    # if latest messages is atool call route to tools\n",
    "    # if not a tool call route to end\n",
    "\n",
    "# from tools return to LLM to format the answer (dont go directly to end)\n",
    "builder.add_edge('tools', 'chatbot_with_tools')\n",
    "\n",
    "graph = builder.compile()"
   ]
  },
  {
   "cell_type": "code",
   "execution_count": 105,
   "id": "adcb63c7",
   "metadata": {},
   "outputs": [
    {
     "data": {
      "image/png": "[encoded data removed]",
      "text/plain": [
       "<IPython.core.display.Image object>"
      ]
     },
     "metadata": {},
     "output_type": "display_data"
    }
   ],
   "source": [
    "display(Image(graph.get_graph().draw_mermaid_png()))"
   ]
  },
  {
   "cell_type": "code",
   "execution_count": 106,
   "id": "4fbca327",
   "metadata": {},
   "outputs": [],
   "source": [
    "web_question = 'what is the weather in Manila Philippines right now'\n",
    "hp_question = \"what is the horse power needed in a room with lenght is 3 meters and width is 5 meters? \""
   ]
  },
  {
   "cell_type": "code",
   "execution_count": 70,
   "id": "602837ca",
   "metadata": {},
   "outputs": [],
   "source": [
    "# response = graph.invoke({\"messages\": web_question})\n",
    "# response"
   ]
  },
  {
   "cell_type": "code",
   "execution_count": 71,
   "id": "4eb6bb7c",
   "metadata": {},
   "outputs": [],
   "source": [
    "# response['messages'][-1].content"
   ]
  },
  {
   "cell_type": "code",
   "execution_count": 107,
   "id": "28f337e0",
   "metadata": {},
   "outputs": [
    {
     "name": "stdout",
     "output_type": "stream",
     "text": [
      "================================\u001b[1m Human Message \u001b[0m=================================\n",
      "\n",
      "what is the weather in Manila Philippines right now\n",
      "==================================\u001b[1m Ai Message \u001b[0m==================================\n",
      "Tool Calls:\n",
      "  tavily_search (call_iKs9DgPkZTzoF4hShmumpp26)\n",
      " Call ID: call_iKs9DgPkZTzoF4hShmumpp26\n",
      "  Args:\n",
      "    query: current weather in Manila Philippines\n",
      "    search_depth: basic\n",
      "=================================\u001b[1m Tool Message \u001b[0m=================================\n",
      "Name: tavily_search\n",
      "\n",
      "{\"query\": \"current weather in Manila Philippines\", \"follow_up_questions\": null, \"answer\": null, \"images\": [], \"results\": [{\"title\": \"Weather in Manila, Philippines\", \"url\": \"https://www.weatherapi.com/\", \"content\": \"{'location': {'name': 'Manila', 'region': 'Manila', 'country': 'Philippines', 'lat': 14.6042, 'lon': 120.9822, 'tz_id': 'Asia/Manila', 'localtime_epoch': 1753082560, 'localtime': '2025-07-21 15:22'}, 'current': {'last_updated_epoch': 1753082100, 'last_updated': '2025-07-21 15:15', 'temp_c': 27.3, 'temp_f': 81.1, 'is_day': 1, 'condition': {'text': 'Light rain', 'icon': '//cdn.weatherapi.com/weather/64x64/day/296.png', 'code': 1183}, 'wind_mph': 16.8, 'wind_kph': 27.0, 'wind_degree': 235, 'wind_dir': 'SW', 'pressure_mb': 1005.0, 'pressure_in': 29.68, 'precip_mm': 1.43, 'precip_in': 0.06, 'humidity': 94, 'cloud': 100, 'feelslike_c': 31.2, 'feelslike_f': 88.2, 'windchill_c': 28.1, 'windchill_f': 82.5, 'heatindex_c': 32.9, 'heatindex_f': 91.3, 'dewpoint_c': 24.8, 'dewpoint_f': 76.7, 'vis_km': 9.0, 'vis_miles': 5.0, 'uv': 2.6, 'gust_mph': 23.0, 'gust_kph': 37.0}}\", \"score\": 0.9759476, \"raw_content\": null}, {\"url\": \"https://www.timeanddate.com/weather/philippines/manila\", \"title\": \"Weather for Manila, Philippines - Time and Date\", \"content\": \"Current weather in Manila and forecast for today, tomorrow, and next 14 days. ... Jul 21, 2025 at 8:00 am. Visibility: 4 mi. Pressure: 29.72 \\\"Hg. Humidity: 94\", \"score\": 0.90869105, \"raw_content\": null}], \"response_time\": 1.56}\n",
      "==================================\u001b[1m Ai Message \u001b[0m==================================\n",
      "\n",
      "The current weather in Manila, Philippines is as follows:\n",
      "- Temperature: 27.3°C (81.1°F)\n",
      "- Condition: Light rain\n",
      "- Wind Speed: 27.0 km/h\n",
      "- Humidity: 94%\n",
      "- Visibility: 9.0 km\n",
      "- Pressure: 1005.0 mb\n",
      "\n",
      "You can find more details on [Weather in Manila, Philippines](https://www.weatherapi.com/).\n"
     ]
    }
   ],
   "source": [
    "response = graph.invoke({\"messages\": web_question})\n",
    "for m in response['messages']:\n",
    "    m.pretty_print()"
   ]
  },
  {
   "cell_type": "code",
   "execution_count": 159,
   "id": "9abb383b",
   "metadata": {},
   "outputs": [],
   "source": [
    "# response = graph.invoke({\"messages\": hp_question})\n",
    "\n",
    "# for m in response['messages']:\n",
    "#     m.pretty_print()"
   ]
  },
  {
   "cell_type": "markdown",
   "id": "ebd10b38",
   "metadata": {},
   "source": [
    "# Adding Memory"
   ]
  },
  {
   "cell_type": "code",
   "execution_count": 140,
   "id": "fde4eb88",
   "metadata": {},
   "outputs": [],
   "source": [
    "from langgraph.graph import StateGraph, START, END\n",
    "from langgraph.prebuilt import ToolNode\n",
    "from langgraph.prebuilt import tools_condition\n",
    "from langgraph.checkpoint.memory import MemorySaver"
   ]
  },
  {
   "cell_type": "code",
   "execution_count": 141,
   "id": "e58e9f90",
   "metadata": {},
   "outputs": [
    {
     "data": {
      "image/png": "[encoded data removed]",
      "text/plain": [
       "<IPython.core.display.Image object>"
      ]
     },
     "metadata": {},
     "output_type": "display_data"
    }
   ],
   "source": [
    "memory = MemorySaver()\n",
    "\n",
    "class State(TypedDict): \n",
    "    messages: Annotated[list, add_messages]\n",
    "    \n",
    "\n",
    "def chatbot_with_tools(state: State) -> State: \n",
    "            # reply = llm_deepinfra_tools.invoke(state[\"messages\"])\n",
    "            reply = llm_openai_tools.invoke(state[\"messages\"])\n",
    "            return {\"messages\": reply}   \n",
    "\n",
    "builder = StateGraph(State)\n",
    "\n",
    "builder.add_node('chatbot_with_tools', chatbot_with_tools)\n",
    "builder.add_node('tools', ToolNode(tools))\n",
    "\n",
    "builder.add_edge(START, 'chatbot_with_tools')\n",
    "\n",
    "builder.add_conditional_edges('chatbot_with_tools', tools_condition)\n",
    "    # if latest messages is atool call route to tools\n",
    "    # if not a tool call route to end\n",
    "\n",
    "# from tools return to LLM to format the answer (dont go directly to end)\n",
    "builder.add_edge('tools', 'chatbot_with_tools')\n",
    "\n",
    "graph = builder.compile(checkpointer=memory)\n",
    "\n",
    "# view\n",
    "display(Image(graph.get_graph().draw_mermaid_png()))"
   ]
  },
  {
   "cell_type": "code",
   "execution_count": 142,
   "id": "73c77149",
   "metadata": {},
   "outputs": [
    {
     "data": {
      "text/plain": [
       "{'configurable': {'thread_id': '2'}}"
      ]
     },
     "execution_count": 142,
     "metadata": {},
     "output_type": "execute_result"
    }
   ],
   "source": [
    "config = {'configurable':{'thread_id':'2'}}\n",
    "config"
   ]
  },
  {
   "cell_type": "code",
   "execution_count": 143,
   "id": "197f5341",
   "metadata": {},
   "outputs": [
    {
     "name": "stdout",
     "output_type": "stream",
     "text": [
      "================================\u001b[1m Human Message \u001b[0m=================================\n",
      "\n",
      "what is my name again?\n",
      "==================================\u001b[1m Ai Message \u001b[0m==================================\n",
      "\n",
      "I'm sorry, but I don't have access to your personal information, including your name. If there's anything else you'd like to know or discuss, feel free to ask!\n"
     ]
    }
   ],
   "source": [
    "response = graph.invoke({'messages':'what is my name again?'}, config=config)\n",
    "for m in response['messages']:\n",
    "    m.pretty_print()"
   ]
  },
  {
   "cell_type": "code",
   "execution_count": 144,
   "id": "1f208836",
   "metadata": {},
   "outputs": [
    {
     "data": {
      "text/plain": [
       "\"I'm sorry, but I don't have access to your personal information, including your name. If there's anything else you'd like to know or discuss, feel free to ask!\""
      ]
     },
     "execution_count": 144,
     "metadata": {},
     "output_type": "execute_result"
    }
   ],
   "source": [
    "# see the last message\n",
    "response['messages'][-1].content"
   ]
  },
  {
   "cell_type": "markdown",
   "id": "bc6cdcd8",
   "metadata": {},
   "source": [
    "# Stream"
   ]
  },
  {
   "cell_type": "code",
   "execution_count": 145,
   "id": "ed5418fd",
   "metadata": {},
   "outputs": [],
   "source": [
    "config = {'configurable':{'thread_id':'99'}}"
   ]
  },
  {
   "cell_type": "code",
   "execution_count": 149,
   "id": "37bafc52",
   "metadata": {},
   "outputs": [],
   "source": [
    "a = 'hi im kai'\n",
    "b = 'its raining here'\n",
    "c = 'whats my name again?'\n"
   ]
  },
  {
   "cell_type": "code",
   "execution_count": null,
   "id": "01c6fe84",
   "metadata": {},
   "outputs": [
    {
     "name": "stdout",
     "output_type": "stream",
     "text": [
      "{'chatbot_with_tools': {'messages': AIMessage(content='Your name is Kai. If you have any other questions or need help with something, feel free to let me know!', additional_kwargs={'refusal': None}, response_metadata={'token_usage': {'completion_tokens': 25, 'prompt_tokens': 1473, 'total_tokens': 1498, 'completion_tokens_details': {'accepted_prediction_tokens': 0, 'audio_tokens': 0, 'reasoning_tokens': 0, 'rejected_prediction_tokens': 0}, 'prompt_tokens_details': {'audio_tokens': 0, 'cached_tokens': 0}}, 'model_name': 'gpt-3.5-turbo-0125', 'system_fingerprint': None, 'id': 'chatcmpl-BvgMSTZgfc62XrQlar8AEbYLN4Ayu', 'service_tier': 'default', 'finish_reason': 'stop', 'logprobs': None}, id='run--762ab196-300a-4a49-b18c-e91c590cc677-0', usage_metadata={'input_tokens': 1473, 'output_tokens': 25, 'total_tokens': 1498, 'input_token_details': {'audio': 0, 'cache_read': 0}, 'output_token_details': {'audio': 0, 'reasoning': 0}})}}\n"
     ]
    }
   ],
   "source": [
    "for chunk in graph.stream({'messages':c}, config=config, stream_mode='updates'):\n",
    "    print(chunk)"
   ]
  },
  {
   "cell_type": "code",
   "execution_count": 155,
   "id": "8fce1ad0",
   "metadata": {},
   "outputs": [
    {
     "name": "stdout",
     "output_type": "stream",
     "text": [
      "{'messages': [HumanMessage(content='hi im kai', additional_kwargs={}, response_metadata={}, id='e69ae8bd-f403-466d-b0db-3103dce8ab3b'), AIMessage(content='Hello Kai! How can I assist you today?', additional_kwargs={'refusal': None}, response_metadata={'token_usage': {'completion_tokens': 11, 'prompt_tokens': 1413, 'total_tokens': 1424, 'completion_tokens_details': {'accepted_prediction_tokens': 0, 'audio_tokens': 0, 'reasoning_tokens': 0, 'rejected_prediction_tokens': 0}, 'prompt_tokens_details': {'audio_tokens': 0, 'cached_tokens': 0}}, 'model_name': 'gpt-3.5-turbo-0125', 'system_fingerprint': None, 'id': 'chatcmpl-BvgNMJr7KQdDR85qmjGd7TPA5YGsd', 'service_tier': 'default', 'finish_reason': 'stop', 'logprobs': None}, id='run--7062a7a5-eaef-4f6a-b5da-5560d60ebecd-0', usage_metadata={'input_tokens': 1413, 'output_tokens': 11, 'total_tokens': 1424, 'input_token_details': {'audio': 0, 'cache_read': 0}, 'output_token_details': {'audio': 0, 'reasoning': 0}}), HumanMessage(content='its raining here', additional_kwargs={}, response_metadata={}, id='2162096e-f1e4-43d1-bebe-28aa51e4815b'), AIMessage(content=\"I hope you're enjoying the cozy weather! Is there anything specific you'd like to know or talk about while it's raining?\", additional_kwargs={'refusal': None}, response_metadata={'token_usage': {'completion_tokens': 27, 'prompt_tokens': 1434, 'total_tokens': 1461, 'completion_tokens_details': {'accepted_prediction_tokens': 0, 'audio_tokens': 0, 'reasoning_tokens': 0, 'rejected_prediction_tokens': 0}, 'prompt_tokens_details': {'audio_tokens': 0, 'cached_tokens': 0}}, 'model_name': 'gpt-3.5-turbo-0125', 'system_fingerprint': None, 'id': 'chatcmpl-BvgNfeU9GPyuLg97X18Bf4Zl0IIhK', 'service_tier': 'default', 'finish_reason': 'stop', 'logprobs': None}, id='run--92e04b93-9914-442a-a4a3-abaeedd1cd84-0', usage_metadata={'input_tokens': 1434, 'output_tokens': 27, 'total_tokens': 1461, 'input_token_details': {'audio': 0, 'cache_read': 0}, 'output_token_details': {'audio': 0, 'reasoning': 0}}), HumanMessage(content='whats my name again?', additional_kwargs={}, response_metadata={}, id='8540ba26-1eb2-4242-ab73-cc992e59b1fd')]}\n",
      "{'messages': [HumanMessage(content='hi im kai', additional_kwargs={}, response_metadata={}, id='e69ae8bd-f403-466d-b0db-3103dce8ab3b'), AIMessage(content='Hello Kai! How can I assist you today?', additional_kwargs={'refusal': None}, response_metadata={'token_usage': {'completion_tokens': 11, 'prompt_tokens': 1413, 'total_tokens': 1424, 'completion_tokens_details': {'accepted_prediction_tokens': 0, 'audio_tokens': 0, 'reasoning_tokens': 0, 'rejected_prediction_tokens': 0}, 'prompt_tokens_details': {'audio_tokens': 0, 'cached_tokens': 0}}, 'model_name': 'gpt-3.5-turbo-0125', 'system_fingerprint': None, 'id': 'chatcmpl-BvgNMJr7KQdDR85qmjGd7TPA5YGsd', 'service_tier': 'default', 'finish_reason': 'stop', 'logprobs': None}, id='run--7062a7a5-eaef-4f6a-b5da-5560d60ebecd-0', usage_metadata={'input_tokens': 1413, 'output_tokens': 11, 'total_tokens': 1424, 'input_token_details': {'audio': 0, 'cache_read': 0}, 'output_token_details': {'audio': 0, 'reasoning': 0}}), HumanMessage(content='its raining here', additional_kwargs={}, response_metadata={}, id='2162096e-f1e4-43d1-bebe-28aa51e4815b'), AIMessage(content=\"I hope you're enjoying the cozy weather! Is there anything specific you'd like to know or talk about while it's raining?\", additional_kwargs={'refusal': None}, response_metadata={'token_usage': {'completion_tokens': 27, 'prompt_tokens': 1434, 'total_tokens': 1461, 'completion_tokens_details': {'accepted_prediction_tokens': 0, 'audio_tokens': 0, 'reasoning_tokens': 0, 'rejected_prediction_tokens': 0}, 'prompt_tokens_details': {'audio_tokens': 0, 'cached_tokens': 0}}, 'model_name': 'gpt-3.5-turbo-0125', 'system_fingerprint': None, 'id': 'chatcmpl-BvgNfeU9GPyuLg97X18Bf4Zl0IIhK', 'service_tier': 'default', 'finish_reason': 'stop', 'logprobs': None}, id='run--92e04b93-9914-442a-a4a3-abaeedd1cd84-0', usage_metadata={'input_tokens': 1434, 'output_tokens': 27, 'total_tokens': 1461, 'input_token_details': {'audio': 0, 'cache_read': 0}, 'output_token_details': {'audio': 0, 'reasoning': 0}}), HumanMessage(content='whats my name again?', additional_kwargs={}, response_metadata={}, id='8540ba26-1eb2-4242-ab73-cc992e59b1fd'), AIMessage(content=\"Your name is Kai! If there's anything else you'd like to know or discuss, feel free to ask.\", additional_kwargs={'refusal': None}, response_metadata={'token_usage': {'completion_tokens': 24, 'prompt_tokens': 1474, 'total_tokens': 1498, 'completion_tokens_details': {'accepted_prediction_tokens': 0, 'audio_tokens': 0, 'reasoning_tokens': 0, 'rejected_prediction_tokens': 0}, 'prompt_tokens_details': {'audio_tokens': 0, 'cached_tokens': 0}}, 'model_name': 'gpt-3.5-turbo-0125', 'system_fingerprint': None, 'id': 'chatcmpl-BvgOSatq2B03Mcsnx2oo53tj8KTdw', 'service_tier': 'default', 'finish_reason': 'stop', 'logprobs': None}, id='run--e76d3be1-8497-4249-ba88-f7e701d01970-0', usage_metadata={'input_tokens': 1474, 'output_tokens': 24, 'total_tokens': 1498, 'input_token_details': {'audio': 0, 'cache_read': 0}, 'output_token_details': {'audio': 0, 'reasoning': 0}})]}\n"
     ]
    }
   ],
   "source": [
    "config = {'configurable':{'thread_id':'101'}}\n",
    "for chunk in graph.stream({'messages':c}, config=config, stream_mode='values'):\n",
    "    print(chunk)"
   ]
  },
  {
   "cell_type": "code",
   "execution_count": 158,
   "id": "5e2a06cb",
   "metadata": {},
   "outputs": [
    {
     "name": "stdout",
     "output_type": "stream",
     "text": [
      "(AIMessageChunk(content='', additional_kwargs={}, response_metadata={}, id='run--0504fbe6-e15d-4a8b-8159-12eb1e89958f'), {'thread_id': '69', 'langgraph_step': 7, 'langgraph_node': 'chatbot_with_tools', 'langgraph_triggers': ('branch:to:chatbot_with_tools',), 'langgraph_path': ('__pregel_pull', 'chatbot_with_tools'), 'langgraph_checkpoint_ns': 'chatbot_with_tools:6e1fd6bc-cac9-b22e-5ed9-340945e47867', 'checkpoint_ns': 'chatbot_with_tools:6e1fd6bc-cac9-b22e-5ed9-340945e47867', 'ls_provider': 'openai', 'ls_model_name': 'gpt-3.5-turbo', 'ls_model_type': 'chat', 'ls_temperature': 0.7})\n",
      "(AIMessageChunk(content='Your', additional_kwargs={}, response_metadata={}, id='run--0504fbe6-e15d-4a8b-8159-12eb1e89958f'), {'thread_id': '69', 'langgraph_step': 7, 'langgraph_node': 'chatbot_with_tools', 'langgraph_triggers': ('branch:to:chatbot_with_tools',), 'langgraph_path': ('__pregel_pull', 'chatbot_with_tools'), 'langgraph_checkpoint_ns': 'chatbot_with_tools:6e1fd6bc-cac9-b22e-5ed9-340945e47867', 'checkpoint_ns': 'chatbot_with_tools:6e1fd6bc-cac9-b22e-5ed9-340945e47867', 'ls_provider': 'openai', 'ls_model_name': 'gpt-3.5-turbo', 'ls_model_type': 'chat', 'ls_temperature': 0.7})\n",
      "(AIMessageChunk(content=' name', additional_kwargs={}, response_metadata={}, id='run--0504fbe6-e15d-4a8b-8159-12eb1e89958f'), {'thread_id': '69', 'langgraph_step': 7, 'langgraph_node': 'chatbot_with_tools', 'langgraph_triggers': ('branch:to:chatbot_with_tools',), 'langgraph_path': ('__pregel_pull', 'chatbot_with_tools'), 'langgraph_checkpoint_ns': 'chatbot_with_tools:6e1fd6bc-cac9-b22e-5ed9-340945e47867', 'checkpoint_ns': 'chatbot_with_tools:6e1fd6bc-cac9-b22e-5ed9-340945e47867', 'ls_provider': 'openai', 'ls_model_name': 'gpt-3.5-turbo', 'ls_model_type': 'chat', 'ls_temperature': 0.7})\n",
      "(AIMessageChunk(content=' is', additional_kwargs={}, response_metadata={}, id='run--0504fbe6-e15d-4a8b-8159-12eb1e89958f'), {'thread_id': '69', 'langgraph_step': 7, 'langgraph_node': 'chatbot_with_tools', 'langgraph_triggers': ('branch:to:chatbot_with_tools',), 'langgraph_path': ('__pregel_pull', 'chatbot_with_tools'), 'langgraph_checkpoint_ns': 'chatbot_with_tools:6e1fd6bc-cac9-b22e-5ed9-340945e47867', 'checkpoint_ns': 'chatbot_with_tools:6e1fd6bc-cac9-b22e-5ed9-340945e47867', 'ls_provider': 'openai', 'ls_model_name': 'gpt-3.5-turbo', 'ls_model_type': 'chat', 'ls_temperature': 0.7})\n",
      "(AIMessageChunk(content=' Kai', additional_kwargs={}, response_metadata={}, id='run--0504fbe6-e15d-4a8b-8159-12eb1e89958f'), {'thread_id': '69', 'langgraph_step': 7, 'langgraph_node': 'chatbot_with_tools', 'langgraph_triggers': ('branch:to:chatbot_with_tools',), 'langgraph_path': ('__pregel_pull', 'chatbot_with_tools'), 'langgraph_checkpoint_ns': 'chatbot_with_tools:6e1fd6bc-cac9-b22e-5ed9-340945e47867', 'checkpoint_ns': 'chatbot_with_tools:6e1fd6bc-cac9-b22e-5ed9-340945e47867', 'ls_provider': 'openai', 'ls_model_name': 'gpt-3.5-turbo', 'ls_model_type': 'chat', 'ls_temperature': 0.7})\n",
      "(AIMessageChunk(content='.', additional_kwargs={}, response_metadata={}, id='run--0504fbe6-e15d-4a8b-8159-12eb1e89958f'), {'thread_id': '69', 'langgraph_step': 7, 'langgraph_node': 'chatbot_with_tools', 'langgraph_triggers': ('branch:to:chatbot_with_tools',), 'langgraph_path': ('__pregel_pull', 'chatbot_with_tools'), 'langgraph_checkpoint_ns': 'chatbot_with_tools:6e1fd6bc-cac9-b22e-5ed9-340945e47867', 'checkpoint_ns': 'chatbot_with_tools:6e1fd6bc-cac9-b22e-5ed9-340945e47867', 'ls_provider': 'openai', 'ls_model_name': 'gpt-3.5-turbo', 'ls_model_type': 'chat', 'ls_temperature': 0.7})\n",
      "(AIMessageChunk(content=' How', additional_kwargs={}, response_metadata={}, id='run--0504fbe6-e15d-4a8b-8159-12eb1e89958f'), {'thread_id': '69', 'langgraph_step': 7, 'langgraph_node': 'chatbot_with_tools', 'langgraph_triggers': ('branch:to:chatbot_with_tools',), 'langgraph_path': ('__pregel_pull', 'chatbot_with_tools'), 'langgraph_checkpoint_ns': 'chatbot_with_tools:6e1fd6bc-cac9-b22e-5ed9-340945e47867', 'checkpoint_ns': 'chatbot_with_tools:6e1fd6bc-cac9-b22e-5ed9-340945e47867', 'ls_provider': 'openai', 'ls_model_name': 'gpt-3.5-turbo', 'ls_model_type': 'chat', 'ls_temperature': 0.7})\n",
      "(AIMessageChunk(content=' can', additional_kwargs={}, response_metadata={}, id='run--0504fbe6-e15d-4a8b-8159-12eb1e89958f'), {'thread_id': '69', 'langgraph_step': 7, 'langgraph_node': 'chatbot_with_tools', 'langgraph_triggers': ('branch:to:chatbot_with_tools',), 'langgraph_path': ('__pregel_pull', 'chatbot_with_tools'), 'langgraph_checkpoint_ns': 'chatbot_with_tools:6e1fd6bc-cac9-b22e-5ed9-340945e47867', 'checkpoint_ns': 'chatbot_with_tools:6e1fd6bc-cac9-b22e-5ed9-340945e47867', 'ls_provider': 'openai', 'ls_model_name': 'gpt-3.5-turbo', 'ls_model_type': 'chat', 'ls_temperature': 0.7})\n",
      "(AIMessageChunk(content=' I', additional_kwargs={}, response_metadata={}, id='run--0504fbe6-e15d-4a8b-8159-12eb1e89958f'), {'thread_id': '69', 'langgraph_step': 7, 'langgraph_node': 'chatbot_with_tools', 'langgraph_triggers': ('branch:to:chatbot_with_tools',), 'langgraph_path': ('__pregel_pull', 'chatbot_with_tools'), 'langgraph_checkpoint_ns': 'chatbot_with_tools:6e1fd6bc-cac9-b22e-5ed9-340945e47867', 'checkpoint_ns': 'chatbot_with_tools:6e1fd6bc-cac9-b22e-5ed9-340945e47867', 'ls_provider': 'openai', 'ls_model_name': 'gpt-3.5-turbo', 'ls_model_type': 'chat', 'ls_temperature': 0.7})\n",
      "(AIMessageChunk(content=' help', additional_kwargs={}, response_metadata={}, id='run--0504fbe6-e15d-4a8b-8159-12eb1e89958f'), {'thread_id': '69', 'langgraph_step': 7, 'langgraph_node': 'chatbot_with_tools', 'langgraph_triggers': ('branch:to:chatbot_with_tools',), 'langgraph_path': ('__pregel_pull', 'chatbot_with_tools'), 'langgraph_checkpoint_ns': 'chatbot_with_tools:6e1fd6bc-cac9-b22e-5ed9-340945e47867', 'checkpoint_ns': 'chatbot_with_tools:6e1fd6bc-cac9-b22e-5ed9-340945e47867', 'ls_provider': 'openai', 'ls_model_name': 'gpt-3.5-turbo', 'ls_model_type': 'chat', 'ls_temperature': 0.7})\n",
      "(AIMessageChunk(content=' you', additional_kwargs={}, response_metadata={}, id='run--0504fbe6-e15d-4a8b-8159-12eb1e89958f'), {'thread_id': '69', 'langgraph_step': 7, 'langgraph_node': 'chatbot_with_tools', 'langgraph_triggers': ('branch:to:chatbot_with_tools',), 'langgraph_path': ('__pregel_pull', 'chatbot_with_tools'), 'langgraph_checkpoint_ns': 'chatbot_with_tools:6e1fd6bc-cac9-b22e-5ed9-340945e47867', 'checkpoint_ns': 'chatbot_with_tools:6e1fd6bc-cac9-b22e-5ed9-340945e47867', 'ls_provider': 'openai', 'ls_model_name': 'gpt-3.5-turbo', 'ls_model_type': 'chat', 'ls_temperature': 0.7})\n",
      "(AIMessageChunk(content=' today', additional_kwargs={}, response_metadata={}, id='run--0504fbe6-e15d-4a8b-8159-12eb1e89958f'), {'thread_id': '69', 'langgraph_step': 7, 'langgraph_node': 'chatbot_with_tools', 'langgraph_triggers': ('branch:to:chatbot_with_tools',), 'langgraph_path': ('__pregel_pull', 'chatbot_with_tools'), 'langgraph_checkpoint_ns': 'chatbot_with_tools:6e1fd6bc-cac9-b22e-5ed9-340945e47867', 'checkpoint_ns': 'chatbot_with_tools:6e1fd6bc-cac9-b22e-5ed9-340945e47867', 'ls_provider': 'openai', 'ls_model_name': 'gpt-3.5-turbo', 'ls_model_type': 'chat', 'ls_temperature': 0.7})\n",
      "(AIMessageChunk(content=',', additional_kwargs={}, response_metadata={}, id='run--0504fbe6-e15d-4a8b-8159-12eb1e89958f'), {'thread_id': '69', 'langgraph_step': 7, 'langgraph_node': 'chatbot_with_tools', 'langgraph_triggers': ('branch:to:chatbot_with_tools',), 'langgraph_path': ('__pregel_pull', 'chatbot_with_tools'), 'langgraph_checkpoint_ns': 'chatbot_with_tools:6e1fd6bc-cac9-b22e-5ed9-340945e47867', 'checkpoint_ns': 'chatbot_with_tools:6e1fd6bc-cac9-b22e-5ed9-340945e47867', 'ls_provider': 'openai', 'ls_model_name': 'gpt-3.5-turbo', 'ls_model_type': 'chat', 'ls_temperature': 0.7})\n",
      "(AIMessageChunk(content=' Kai', additional_kwargs={}, response_metadata={}, id='run--0504fbe6-e15d-4a8b-8159-12eb1e89958f'), {'thread_id': '69', 'langgraph_step': 7, 'langgraph_node': 'chatbot_with_tools', 'langgraph_triggers': ('branch:to:chatbot_with_tools',), 'langgraph_path': ('__pregel_pull', 'chatbot_with_tools'), 'langgraph_checkpoint_ns': 'chatbot_with_tools:6e1fd6bc-cac9-b22e-5ed9-340945e47867', 'checkpoint_ns': 'chatbot_with_tools:6e1fd6bc-cac9-b22e-5ed9-340945e47867', 'ls_provider': 'openai', 'ls_model_name': 'gpt-3.5-turbo', 'ls_model_type': 'chat', 'ls_temperature': 0.7})\n",
      "(AIMessageChunk(content='?', additional_kwargs={}, response_metadata={}, id='run--0504fbe6-e15d-4a8b-8159-12eb1e89958f'), {'thread_id': '69', 'langgraph_step': 7, 'langgraph_node': 'chatbot_with_tools', 'langgraph_triggers': ('branch:to:chatbot_with_tools',), 'langgraph_path': ('__pregel_pull', 'chatbot_with_tools'), 'langgraph_checkpoint_ns': 'chatbot_with_tools:6e1fd6bc-cac9-b22e-5ed9-340945e47867', 'checkpoint_ns': 'chatbot_with_tools:6e1fd6bc-cac9-b22e-5ed9-340945e47867', 'ls_provider': 'openai', 'ls_model_name': 'gpt-3.5-turbo', 'ls_model_type': 'chat', 'ls_temperature': 0.7})\n",
      "(AIMessageChunk(content='', additional_kwargs={}, response_metadata={'finish_reason': 'stop', 'model_name': 'gpt-3.5-turbo-0125', 'service_tier': 'default'}, id='run--0504fbe6-e15d-4a8b-8159-12eb1e89958f'), {'thread_id': '69', 'langgraph_step': 7, 'langgraph_node': 'chatbot_with_tools', 'langgraph_triggers': ('branch:to:chatbot_with_tools',), 'langgraph_path': ('__pregel_pull', 'chatbot_with_tools'), 'langgraph_checkpoint_ns': 'chatbot_with_tools:6e1fd6bc-cac9-b22e-5ed9-340945e47867', 'checkpoint_ns': 'chatbot_with_tools:6e1fd6bc-cac9-b22e-5ed9-340945e47867', 'ls_provider': 'openai', 'ls_model_name': 'gpt-3.5-turbo', 'ls_model_type': 'chat', 'ls_temperature': 0.7})\n"
     ]
    }
   ],
   "source": [
    "config = {'configurable':{'thread_id':'69'}}\n",
    "for chunk in graph.stream({'messages':c}, config=config, stream_mode='messages'):\n",
    "    print(chunk)"
   ]
  },
  {
   "cell_type": "markdown",
   "id": "82243740",
   "metadata": {},
   "source": [
    "# Human in the loop"
   ]
  },
  {
   "cell_type": "code",
   "execution_count": null,
   "id": "f0c2eb51",
   "metadata": {},
   "outputs": [
    {
     "data": {
      "text/plain": [
       "True"
      ]
     },
     "execution_count": 168,
     "metadata": {},
     "output_type": "execute_result"
    }
   ],
   "source": [
    "import os\n",
    "from langchain_openai import ChatOpenAI\n",
    "from langchain_core.tools import tool\n",
    "from langgraph.types import Command, interrupt\n",
    "# from langchain_tavily import TavilySearch\n",
    "from langchain_community.tools.tavily_search import TavilySearchResults\n",
    "\n",
    "from langgraph.prebuilt import ToolNode\n",
    "from langgraph.prebuilt import tools_condition\n",
    "\n",
    "from dotenv import load_dotenv\n",
    "load_dotenv()"
   ]
  },
  {
   "cell_type": "code",
   "execution_count": 169,
   "id": "74c4f160",
   "metadata": {},
   "outputs": [],
   "source": [
    "# .env keys\n",
    "TAVILY_API_KEY=os.getenv('TAVILY_API_KEY')\n",
    "OPENAI_API_KEY = os.getenv('OPENAI_API_KEY')\n",
    "\n",
    "# llm\n",
    "llm_openai = ChatOpenAI(\n",
    "                api_key=OPENAI_API_KEY, \n",
    "                model='gpt-3.5-turbo', \n",
    "                temperature=0.7)"
   ]
  },
  {
   "cell_type": "code",
   "execution_count": 229,
   "id": "eaf7ccd0",
   "metadata": {},
   "outputs": [],
   "source": [
    "# Tools\n",
    "\n",
    "# websearch\n",
    "websearch = TavilySearchResults(max_results=2)\n",
    "\n",
    "\n",
    "@tool\n",
    "def Room_AC_Horsepower_Computation(length:int,\n",
    "                                   width:int) -> float:\n",
    "    '''Compute the required AC horsepower for a room.\n",
    "\n",
    "    Multiply length × width to get square metres, then divide by 9\n",
    "    to estimate horsepower (1 HP ≈ 10 m²).\n",
    "\n",
    "    Args:\n",
    "        length (int): Room length in metres.\n",
    "        width (int): Room width in metres.\n",
    "\n",
    "    Returns:\n",
    "        float: Recommended horsepower (HP).\n",
    "    '''\n",
    "\n",
    "    sqm = length * width\n",
    "    hp = sqm/10\n",
    "    return hp\n",
    "\n",
    "# human intervention\n",
    "from langchain_core.tools import tool\n",
    "\n",
    "@tool\n",
    "def human_assistance(query: str) -> str:\n",
    "    \"\"\"\n",
    "    Im the supervisor.\n",
    "    .\n",
    "    \"\"\"\n",
    "    human_response = interrupt({'query': query})\n",
    "    return human_response['data']\n",
    "\n",
    "tools = [websearch, Room_AC_Horsepower_Computation, human_assistance]\n",
    "llm_openai_tools = llm_openai.bind_tools(tools)"
   ]
  },
  {
   "cell_type": "code",
   "execution_count": 230,
   "id": "ddd7e096",
   "metadata": {},
   "outputs": [
    {
     "data": {
      "image/png": "[encoded data removed]",
      "text/plain": [
       "<IPython.core.display.Image object>"
      ]
     },
     "metadata": {},
     "output_type": "display_data"
    }
   ],
   "source": [
    "memory = MemorySaver()\n",
    "\n",
    "class State(TypedDict): \n",
    "    messages: Annotated[list, add_messages]\n",
    "    \n",
    "\n",
    "def chatbot_with_tools(state: State) -> State: \n",
    "            # reply = llm_deepinfra_tools.invoke(state[\"messages\"])\n",
    "            reply = llm_openai_tools.invoke(state[\"messages\"])\n",
    "            return {\"messages\": reply}   \n",
    "\n",
    "builder = StateGraph(State)\n",
    "builder.add_edge(START, 'chatbot_with_tools')\n",
    "builder.add_node('chatbot_with_tools', chatbot_with_tools)\n",
    "\n",
    "tool_node = ToolNode(tools = tools)\n",
    "builder.add_node('tools', tool_node)\n",
    "\n",
    "builder.add_conditional_edges('chatbot_with_tools', tools_condition)\n",
    "    # if latest messages is atool call route to tools\n",
    "    # if not a tool call route to end\n",
    "\n",
    "# from tools return to LLM to format the answer (dont go directly to end)\n",
    "builder.add_edge('tools', 'chatbot_with_tools')\n",
    "\n",
    "graph = builder.compile(checkpointer=memory)\n",
    "\n",
    "# view\n",
    "display(Image(graph.get_graph().draw_mermaid_png()))"
   ]
  },
  {
   "cell_type": "code",
   "execution_count": 231,
   "id": "680ef58d",
   "metadata": {},
   "outputs": [
    {
     "name": "stdout",
     "output_type": "stream",
     "text": [
      "================================\u001b[1m Human Message \u001b[0m=================================\n",
      "\n",
      "how many aircon horse power i need my room size is 3 by 4? i need your supervisor your answer?\n",
      "==================================\u001b[1m Ai Message \u001b[0m==================================\n",
      "Tool Calls:\n",
      "  Room_AC_Horsepower_Computation (call_HQ2cnQLaiWcBMNSR887OS6Ki)\n",
      " Call ID: call_HQ2cnQLaiWcBMNSR887OS6Ki\n",
      "  Args:\n",
      "    length: 3\n",
      "    width: 4\n",
      "  human_assistance (call_cCnFx8iF7MfKuwpiJMCRH407)\n",
      " Call ID: call_cCnFx8iF7MfKuwpiJMCRH407\n",
      "  Args:\n",
      "    query: I need your supervisor\n"
     ]
    }
   ],
   "source": [
    "user_input = 'how many aircon horse power i need my room size is 3 by 4? i need your supervisor your answer?'\n",
    "config = {'configurable': {'thread_id': \"101\"}}\n",
    "\n",
    "events = graph.stream(\n",
    "    {\"messages\": user_input},\n",
    "    config=config,\n",
    "    stream_mode=\"values\"\n",
    ")\n",
    "\n",
    "for event in events:\n",
    "    if 'messages' in event:\n",
    "        event['messages'][-1].pretty_print()"
   ]
  },
  {
   "cell_type": "code",
   "execution_count": 232,
   "id": "cad4c3a7",
   "metadata": {},
   "outputs": [
    {
     "name": "stdout",
     "output_type": "stream",
     "text": [
      "==================================\u001b[1m Ai Message \u001b[0m==================================\n",
      "Tool Calls:\n",
      "  Room_AC_Horsepower_Computation (call_HQ2cnQLaiWcBMNSR887OS6Ki)\n",
      " Call ID: call_HQ2cnQLaiWcBMNSR887OS6Ki\n",
      "  Args:\n",
      "    length: 3\n",
      "    width: 4\n",
      "  human_assistance (call_cCnFx8iF7MfKuwpiJMCRH407)\n",
      " Call ID: call_cCnFx8iF7MfKuwpiJMCRH407\n",
      "  Args:\n",
      "    query: I need your supervisor\n",
      "=================================\u001b[1m Tool Message \u001b[0m=================================\n",
      "Name: human_assistance\n",
      "\n",
      "Im the supervisor I will handle this\n",
      "==================================\u001b[1m Ai Message \u001b[0m==================================\n",
      "\n",
      "Based on the room size of 3 by 4 meters, you would need approximately 1.2 horsepower for your air conditioner. Additionally, I am the supervisor and will handle any further assistance or questions you may have.\n"
     ]
    }
   ],
   "source": [
    "human_response = ('Im the supervisor I will handle this')\n",
    "human_command = Command(resume={'data': human_response})\n",
    "\n",
    "events = graph.stream(\n",
    "    human_command,\n",
    "    config=config,\n",
    "    stream_mode=\"values\"\n",
    ")\n",
    "\n",
    "for event in events:\n",
    "    if 'messages' in event:\n",
    "        event['messages'][-1].pretty_print()"
   ]
  },
  {
   "cell_type": "code",
   "execution_count": null,
   "id": "5594b949",
   "metadata": {},
   "outputs": [
    {
     "data": {
      "text/plain": [
       "Command(resume={'data': 'yes'})"
      ]
     },
     "execution_count": 218,
     "metadata": {},
     "output_type": "execute_result"
    }
   ],
   "source": [
    "\n"
   ]
  },
  {
   "cell_type": "code",
   "execution_count": null,
   "id": "423f8d45",
   "metadata": {},
   "outputs": [],
   "source": []
  },
  {
   "cell_type": "code",
   "execution_count": null,
   "id": "90f1d29d",
   "metadata": {},
   "outputs": [],
   "source": []
  }
 ],
 "metadata": {
  "kernelspec": {
   "display_name": "practice-mode",
   "language": "python",
   "name": "python3"
  },
  "language_info": {
   "codemirror_mode": {
    "name": "ipython",
    "version": 3
   },
   "file_extension": ".py",
   "mimetype": "text/x-python",
   "name": "python",
   "nbconvert_exporter": "python",
   "pygments_lexer": "ipython3",
   "version": "3.9.13"
  }
 },
 "nbformat": 4,
 "nbformat_minor": 5
}
